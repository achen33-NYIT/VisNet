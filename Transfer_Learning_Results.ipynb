{
  "nbformat": 4,
  "nbformat_minor": 0,
  "metadata": {
    "colab": {
      "provenance": [],
      "gpuType": "T4"
    },
    "kernelspec": {
      "name": "python3",
      "display_name": "Python 3"
    },
    "language_info": {
      "name": "python"
    },
    "accelerator": "GPU"
  },
  "cells": [
    {
      "cell_type": "code",
      "source": [
        "#VGGNET16"
      ],
      "metadata": {
        "id": "s-MvdrGAmYpq"
      },
      "execution_count": null,
      "outputs": []
    },
    {
      "cell_type": "code",
      "execution_count": 2,
      "metadata": {
        "colab": {
          "base_uri": "https://localhost:8080/"
        },
        "id": "OOJ4LWVXc96E",
        "outputId": "223516fd-99ce-4e67-cd0e-8231f331911a"
      },
      "outputs": [
        {
          "output_type": "stream",
          "name": "stdout",
          "text": [
            "Downloading https://www.cs.toronto.edu/~kriz/cifar-10-python.tar.gz to ./data/cifar-10-python.tar.gz\n"
          ]
        },
        {
          "output_type": "stream",
          "name": "stderr",
          "text": [
            "100%|██████████| 170498071/170498071 [00:05<00:00, 30874425.99it/s]\n"
          ]
        },
        {
          "output_type": "stream",
          "name": "stdout",
          "text": [
            "Extracting ./data/cifar-10-python.tar.gz to ./data\n",
            "Files already downloaded and verified\n",
            "Epoch 1, Loss: 1.489, Training Accuracy: 53.50%, Test Accuracy: 52.66%, Training Time: 46.28 seconds\n",
            "Epoch 2, Loss: 1.425, Training Accuracy: 55.21%, Test Accuracy: 53.40%, Training Time: 45.05 seconds\n",
            "Epoch 3, Loss: 1.373, Training Accuracy: 54.64%, Test Accuracy: 52.82%, Training Time: 45.06 seconds\n",
            "Epoch 4, Loss: 1.343, Training Accuracy: 58.43%, Test Accuracy: 55.72%, Training Time: 45.00 seconds\n",
            "Epoch 5, Loss: 1.314, Training Accuracy: 59.20%, Test Accuracy: 56.56%, Training Time: 44.79 seconds\n",
            "Finished Training\n"
          ]
        }
      ],
      "source": [
        "import torch\n",
        "import torchvision\n",
        "import torchvision.transforms as transforms\n",
        "import time\n",
        "\n",
        "# Define transformations for the training and testing data\n",
        "transform = transforms.Compose(\n",
        "    [transforms.ToTensor(),\n",
        "     transforms.Normalize((0.5, 0.5, 0.5), (0.5, 0.5, 0.5))])\n",
        "\n",
        "# Load CIFAR-10 training and test sets\n",
        "trainset = torchvision.datasets.CIFAR10(root='./data', train=True, download=True, transform=transform)\n",
        "trainloader = torch.utils.data.DataLoader(trainset, batch_size=64, shuffle=True, num_workers=2)\n",
        "\n",
        "testset = torchvision.datasets.CIFAR10(root='./data', train=False, download=True, transform=transform)\n",
        "testloader = torch.utils.data.DataLoader(testset, batch_size=64, shuffle=False, num_workers=2)\n",
        "\n",
        "# Specify classes\n",
        "classes = ('plane', 'car', 'bird', 'cat', 'deer', 'dog', 'frog', 'horse', 'ship', 'truck')\n",
        "\n",
        "# Define a function to calculate accuracy\n",
        "def calculate_accuracy(loader, model):\n",
        "    correct = 0\n",
        "    total = 0\n",
        "    with torch.no_grad():\n",
        "        for data in loader:\n",
        "            images, labels = data[0].to(device), data[1].to(device)\n",
        "            outputs = model(images)\n",
        "            _, predicted = torch.max(outputs.data, 1)\n",
        "            total += labels.size(0)\n",
        "            correct += (predicted == labels).sum().item()\n",
        "    return 100 * correct / total\n",
        "\n",
        "# Training Loop\n",
        "for epoch in range(5):  # loop over the dataset multiple times\n",
        "\n",
        "    running_loss = 0.0\n",
        "    start_time = time.time()\n",
        "    for i, data in enumerate(trainloader, 0):\n",
        "        # get the inputs; data is a list of [inputs, labels]\n",
        "        inputs, labels = data[0].to(device), data[1].to(device)\n",
        "\n",
        "        # zero the parameter gradients\n",
        "        optimizer.zero_grad()\n",
        "\n",
        "        # forward + backward + optimize\n",
        "        outputs = vggnet(inputs)\n",
        "        loss = loss_func(outputs, labels)\n",
        "        loss.backward()\n",
        "        optimizer.step()\n",
        "\n",
        "        running_loss += loss.item()\n",
        "\n",
        "    end_time = time.time()\n",
        "    training_time = end_time - start_time\n",
        "    train_accuracy = calculate_accuracy(trainloader, vggnet)\n",
        "    test_accuracy = calculate_accuracy(testloader, vggnet)\n",
        "\n",
        "    # Print statistics\n",
        "    print(f\"Epoch {epoch + 1}, Loss: {running_loss / len(trainloader):.3f}, \"\n",
        "          f\"Training Accuracy: {train_accuracy:.2f}%, \"\n",
        "          f\"Test Accuracy: {test_accuracy:.2f}%, \"\n",
        "          f\"Training Time: {training_time:.2f} seconds\")\n",
        "\n",
        "print('Finished Training')\n"
      ]
    },
    {
      "cell_type": "code",
      "source": [
        "# GoogLeNet"
      ],
      "metadata": {
        "id": "k3CIEwqohy4H"
      },
      "execution_count": 3,
      "outputs": []
    },
    {
      "cell_type": "code",
      "source": [
        "import torch\n",
        "import torchvision\n",
        "import torchvision.transforms as transforms\n",
        "import time\n",
        "import torchvision.models as models\n",
        "import torch.nn as nn\n",
        "import torch.optim as optim\n",
        "\n",
        "# Define transformations for the training and testing data\n",
        "# GoogleNet expects a smaller input size than VGG, so we resize images to 224x224\n",
        "transform = transforms.Compose(\n",
        "    [transforms.Resize((224, 224)),\n",
        "     transforms.ToTensor(),\n",
        "     transforms.Normalize((0.5, 0.5, 0.5), (0.5, 0.5, 0.5))])\n",
        "\n",
        "# Load CIFAR-10 training and test sets\n",
        "trainset = torchvision.datasets.CIFAR10(root='./data', train=True, download=True, transform=transform)\n",
        "trainloader = torch.utils.data.DataLoader(trainset, batch_size=64, shuffle=True, num_workers=2)\n",
        "\n",
        "testset = torchvision.datasets.CIFAR10(root='./data', train=False, download=True, transform=transform)\n",
        "testloader = torch.utils.data.DataLoader(testset, batch_size=64, shuffle=False, num_workers=2)\n",
        "\n",
        "# Load pretrained GoogleNet Model\n",
        "googlenet = models.googlenet(pretrained=True)\n",
        "\n",
        "# Freeze model parameters\n",
        "for param in googlenet.parameters():\n",
        "    param.requires_grad = False\n",
        "\n",
        "# Replace the last fully connected layer with a new one that has the same number of input features\n",
        "# but 10 output features for CIFAR-10\n",
        "num_ftrs = googlenet.fc.in_features\n",
        "googlenet.fc = nn.Linear(num_ftrs, 10)\n",
        "\n",
        "# Convert model to be used on GPU\n",
        "device = torch.device(\"cuda:0\" if torch.cuda.is_available() else \"cpu\")\n",
        "googlenet = googlenet.to(device)\n",
        "\n",
        "# Define Optimizer and Loss Function\n",
        "loss_func = nn.CrossEntropyLoss()\n",
        "optimizer = optim.Adam(googlenet.fc.parameters(), lr=0.001)\n",
        "\n",
        "# Define a function to calculate accuracy\n",
        "def calculate_accuracy(loader, model):\n",
        "    correct = 0\n",
        "    total = 0\n",
        "    with torch.no_grad():\n",
        "        for data in loader:\n",
        "            images, labels = data[0].to(device), data[1].to(device)\n",
        "            outputs = model(images)\n",
        "            _, predicted = torch.max(outputs.data, 1)\n",
        "            total += labels.size(0)\n",
        "            correct += (predicted == labels).sum().item()\n",
        "    return 100 * correct / total\n",
        "\n",
        "# Training Loop\n",
        "for epoch in range(5):  # loop over the dataset multiple times\n",
        "\n",
        "    running_loss = 0.0\n",
        "    start_time = time.time()\n",
        "    for i, data in enumerate(trainloader, 0):\n",
        "        # get the inputs; data is a list of [inputs, labels]\n",
        "        inputs, labels = data[0].to(device), data[1].to(device)\n",
        "\n",
        "        # zero the parameter gradients\n",
        "        optimizer.zero_grad()\n",
        "\n",
        "        # forward + backward + optimize\n",
        "        outputs = googlenet(inputs)\n",
        "        loss = loss_func(outputs, labels)\n",
        "        loss.backward()\n",
        "        optimizer.step()\n",
        "\n",
        "        running_loss += loss.item()\n",
        "\n",
        "    end_time = time.time()\n",
        "    training_time = end_time - start_time\n",
        "    train_accuracy = calculate_accuracy(trainloader, googlenet)\n",
        "    test_accuracy = calculate_accuracy(testloader, googlenet)\n",
        "\n",
        "    # Print statistics\n",
        "    print(f\"Epoch {epoch + 1}, Loss: {running_loss / len(trainloader):.3f}, \"\n",
        "          f\"Training Accuracy: {train_accuracy:.2f}%, \"\n",
        "          f\"Test Accuracy: {test_accuracy:.2f}%, \"\n",
        "          f\"Training Time: {training_time:.2f} seconds\")\n",
        "\n",
        "print('Finished Training')\n"
      ],
      "metadata": {
        "colab": {
          "base_uri": "https://localhost:8080/"
        },
        "id": "6gInFnqCmgNm",
        "outputId": "22f98f84-8852-41a8-c283-b8e79c321901"
      },
      "execution_count": 4,
      "outputs": [
        {
          "output_type": "stream",
          "name": "stdout",
          "text": [
            "Files already downloaded and verified\n",
            "Files already downloaded and verified\n"
          ]
        },
        {
          "output_type": "stream",
          "name": "stderr",
          "text": [
            "/usr/local/lib/python3.10/dist-packages/torchvision/models/_utils.py:208: UserWarning: The parameter 'pretrained' is deprecated since 0.13 and may be removed in the future, please use 'weights' instead.\n",
            "  warnings.warn(\n",
            "/usr/local/lib/python3.10/dist-packages/torchvision/models/_utils.py:223: UserWarning: Arguments other than a weight enum or `None` for 'weights' are deprecated since 0.13 and may be removed in the future. The current behavior is equivalent to passing `weights=GoogLeNet_Weights.IMAGENET1K_V1`. You can also use `weights=GoogLeNet_Weights.DEFAULT` to get the most up-to-date weights.\n",
            "  warnings.warn(msg)\n",
            "Downloading: \"https://download.pytorch.org/models/googlenet-1378be20.pth\" to /root/.cache/torch/hub/checkpoints/googlenet-1378be20.pth\n",
            "100%|██████████| 49.7M/49.7M [00:00<00:00, 56.9MB/s]\n"
          ]
        },
        {
          "output_type": "stream",
          "name": "stdout",
          "text": [
            "Epoch 1, Loss: 0.894, Training Accuracy: 76.48%, Test Accuracy: 75.15%, Training Time: 98.28 seconds\n",
            "Epoch 2, Loss: 0.676, Training Accuracy: 78.11%, Test Accuracy: 76.60%, Training Time: 98.98 seconds\n",
            "Epoch 3, Loss: 0.645, Training Accuracy: 78.52%, Test Accuracy: 77.50%, Training Time: 99.12 seconds\n",
            "Epoch 4, Loss: 0.635, Training Accuracy: 78.14%, Test Accuracy: 77.04%, Training Time: 97.44 seconds\n",
            "Epoch 5, Loss: 0.629, Training Accuracy: 78.70%, Test Accuracy: 77.28%, Training Time: 97.17 seconds\n",
            "Finished Training\n"
          ]
        }
      ]
    },
    {
      "cell_type": "code",
      "source": [
        "#Resnet50"
      ],
      "metadata": {
        "id": "Zd1tVDzvmvsO"
      },
      "execution_count": 5,
      "outputs": []
    },
    {
      "cell_type": "code",
      "source": [
        "# Load pretrained ResNet-50 Model instead of ResNet-18\n",
        "resnet50 = models.resnet50(pretrained=True)\n",
        "\n",
        "# Freeze model parameters\n",
        "for param in resnet50.parameters():\n",
        "    param.requires_grad = False\n",
        "\n",
        "# Replace the fully connected layer with a new one with 10 output features for CIFAR-10\n",
        "num_ftrs = resnet50.fc.in_features\n",
        "resnet50.fc = nn.Linear(num_ftrs, 10)\n",
        "\n",
        "# Convert model to be used on GPU\n",
        "resnet50 = resnet50.to(device)\n",
        "\n",
        "# Update the optimizer to optimize the parameters of resnet50\n",
        "optimizer = optim.Adam(resnet50.fc.parameters(), lr=0.001)\n",
        "\n",
        "# Training Loop\n",
        "for epoch in range(5):  # loop over the dataset multiple times\n",
        "\n",
        "    running_loss = 0.0\n",
        "    start_time = time.time()\n",
        "    for i, data in enumerate(trainloader, 0):\n",
        "        # get the inputs; data is a list of [inputs, labels]\n",
        "        inputs, labels = data[0].to(device), data[1].to(device)\n",
        "\n",
        "        # zero the parameter gradients\n",
        "        optimizer.zero_grad()\n",
        "\n",
        "        # forward + backward + optimize\n",
        "        outputs = resnet50(inputs)\n",
        "        loss = loss_func(outputs, labels)\n",
        "        loss.backward()\n",
        "        optimizer.step()\n",
        "\n",
        "        running_loss += loss.item()\n",
        "\n",
        "    end_time = time.time()\n",
        "    training_time = end_time - start_time\n",
        "    train_accuracy = calculate_accuracy(trainloader, resnet50)\n",
        "    test_accuracy = calculate_accuracy(testloader, resnet50)\n",
        "\n",
        "    # Print statistics\n",
        "    print(f\"Epoch {epoch + 1}, Loss: {running_loss / len(trainloader):.3f}, \"\n",
        "          f\"Training Accuracy: {train_accuracy:.2f}%, \"\n",
        "          f\"Test Accuracy: {test_accuracy:.2f}%, \"\n",
        "          f\"Training Time: {training_time:.2f} seconds\")\n",
        "\n",
        "print('Finished Training')\n"
      ],
      "metadata": {
        "colab": {
          "base_uri": "https://localhost:8080/"
        },
        "id": "7s_em7yssruf",
        "outputId": "73c7f8c8-de6f-4491-eddf-dc5aef9b210d"
      },
      "execution_count": 7,
      "outputs": [
        {
          "output_type": "stream",
          "name": "stderr",
          "text": [
            "/usr/local/lib/python3.10/dist-packages/torchvision/models/_utils.py:223: UserWarning: Arguments other than a weight enum or `None` for 'weights' are deprecated since 0.13 and may be removed in the future. The current behavior is equivalent to passing `weights=ResNet50_Weights.IMAGENET1K_V1`. You can also use `weights=ResNet50_Weights.DEFAULT` to get the most up-to-date weights.\n",
            "  warnings.warn(msg)\n",
            "Downloading: \"https://download.pytorch.org/models/resnet50-0676ba61.pth\" to /root/.cache/torch/hub/checkpoints/resnet50-0676ba61.pth\n",
            "100%|██████████| 97.8M/97.8M [00:01<00:00, 60.4MB/s]\n"
          ]
        },
        {
          "output_type": "stream",
          "name": "stdout",
          "text": [
            "Epoch 1, Loss: 1.642, Training Accuracy: 45.97%, Test Accuracy: 45.02%, Training Time: 20.32 seconds\n",
            "Epoch 2, Loss: 1.492, Training Accuracy: 51.37%, Test Accuracy: 49.67%, Training Time: 19.96 seconds\n",
            "Epoch 3, Loss: 1.438, Training Accuracy: 51.19%, Test Accuracy: 49.48%, Training Time: 20.40 seconds\n",
            "Epoch 4, Loss: 1.409, Training Accuracy: 52.78%, Test Accuracy: 50.81%, Training Time: 19.62 seconds\n",
            "Epoch 5, Loss: 1.399, Training Accuracy: 53.18%, Test Accuracy: 51.38%, Training Time: 20.37 seconds\n",
            "Finished Training\n"
          ]
        }
      ]
    },
    {
      "cell_type": "code",
      "source": [],
      "metadata": {
        "id": "X6wDqvZ4t9Ux"
      },
      "execution_count": null,
      "outputs": []
    }
  ]
}